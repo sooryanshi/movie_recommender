{
 "cells": [
  {
   "cell_type": "code",
   "execution_count": 1,
   "id": "a52f6e2e-86a2-4d1d-8bfa-fc2743ece556",
   "metadata": {},
   "outputs": [],
   "source": [
    "import pandas as pd\n",
    "import numpy as np\n",
    "import matplotlib.pyplot as plt\n",
    "import seaborn as sns\n",
    "import ast"
   ]
  },
  {
   "cell_type": "code",
   "execution_count": 2,
   "id": "bee25590-fe8e-4d1d-9591-b14191637b1a",
   "metadata": {},
   "outputs": [],
   "source": [
    "movies=pd.read_csv('movies_metadata.csv',low_memory=False)"
   ]
  },
  {
   "cell_type": "code",
   "execution_count": 3,
   "id": "88ec0915-4230-417b-a138-ce4dacd09d7a",
   "metadata": {},
   "outputs": [],
   "source": [
    "movies.drop(['adult','budget','homepage','imdb_id','original_language','release_date'\t,'revenue'\t,'runtime',\t'spoken_languages'\t,'status',\t'tagline','video','popularity','poster_path','production_companies','production_countries','original_title','belongs_to_collection'],axis=1,inplace=True)"
   ]
  },
  {
   "cell_type": "code",
   "execution_count": 4,
   "id": "f4db6d4c-3d43-4d6c-b3ca-b8f99a15a395",
   "metadata": {},
   "outputs": [
    {
     "data": {
      "text/html": [
       "<div>\n",
       "<style scoped>\n",
       "    .dataframe tbody tr th:only-of-type {\n",
       "        vertical-align: middle;\n",
       "    }\n",
       "\n",
       "    .dataframe tbody tr th {\n",
       "        vertical-align: top;\n",
       "    }\n",
       "\n",
       "    .dataframe thead th {\n",
       "        text-align: right;\n",
       "    }\n",
       "</style>\n",
       "<table border=\"1\" class=\"dataframe\">\n",
       "  <thead>\n",
       "    <tr style=\"text-align: right;\">\n",
       "      <th></th>\n",
       "      <th>genres</th>\n",
       "      <th>id</th>\n",
       "      <th>overview</th>\n",
       "      <th>title</th>\n",
       "      <th>vote_average</th>\n",
       "      <th>vote_count</th>\n",
       "    </tr>\n",
       "  </thead>\n",
       "  <tbody>\n",
       "    <tr>\n",
       "      <th>0</th>\n",
       "      <td>[{'id': 16, 'name': 'Animation'}, {'id': 35, '...</td>\n",
       "      <td>862</td>\n",
       "      <td>Led by Woody, Andy's toys live happily in his ...</td>\n",
       "      <td>Toy Story</td>\n",
       "      <td>7.7</td>\n",
       "      <td>5415.0</td>\n",
       "    </tr>\n",
       "    <tr>\n",
       "      <th>1</th>\n",
       "      <td>[{'id': 12, 'name': 'Adventure'}, {'id': 14, '...</td>\n",
       "      <td>8844</td>\n",
       "      <td>When siblings Judy and Peter discover an encha...</td>\n",
       "      <td>Jumanji</td>\n",
       "      <td>6.9</td>\n",
       "      <td>2413.0</td>\n",
       "    </tr>\n",
       "    <tr>\n",
       "      <th>2</th>\n",
       "      <td>[{'id': 10749, 'name': 'Romance'}, {'id': 35, ...</td>\n",
       "      <td>15602</td>\n",
       "      <td>A family wedding reignites the ancient feud be...</td>\n",
       "      <td>Grumpier Old Men</td>\n",
       "      <td>6.5</td>\n",
       "      <td>92.0</td>\n",
       "    </tr>\n",
       "    <tr>\n",
       "      <th>3</th>\n",
       "      <td>[{'id': 35, 'name': 'Comedy'}, {'id': 18, 'nam...</td>\n",
       "      <td>31357</td>\n",
       "      <td>Cheated on, mistreated and stepped on, the wom...</td>\n",
       "      <td>Waiting to Exhale</td>\n",
       "      <td>6.1</td>\n",
       "      <td>34.0</td>\n",
       "    </tr>\n",
       "    <tr>\n",
       "      <th>4</th>\n",
       "      <td>[{'id': 35, 'name': 'Comedy'}]</td>\n",
       "      <td>11862</td>\n",
       "      <td>Just when George Banks has recovered from his ...</td>\n",
       "      <td>Father of the Bride Part II</td>\n",
       "      <td>5.7</td>\n",
       "      <td>173.0</td>\n",
       "    </tr>\n",
       "  </tbody>\n",
       "</table>\n",
       "</div>"
      ],
      "text/plain": [
       "                                              genres     id  \\\n",
       "0  [{'id': 16, 'name': 'Animation'}, {'id': 35, '...    862   \n",
       "1  [{'id': 12, 'name': 'Adventure'}, {'id': 14, '...   8844   \n",
       "2  [{'id': 10749, 'name': 'Romance'}, {'id': 35, ...  15602   \n",
       "3  [{'id': 35, 'name': 'Comedy'}, {'id': 18, 'nam...  31357   \n",
       "4                     [{'id': 35, 'name': 'Comedy'}]  11862   \n",
       "\n",
       "                                            overview  \\\n",
       "0  Led by Woody, Andy's toys live happily in his ...   \n",
       "1  When siblings Judy and Peter discover an encha...   \n",
       "2  A family wedding reignites the ancient feud be...   \n",
       "3  Cheated on, mistreated and stepped on, the wom...   \n",
       "4  Just when George Banks has recovered from his ...   \n",
       "\n",
       "                         title  vote_average  vote_count  \n",
       "0                    Toy Story           7.7      5415.0  \n",
       "1                      Jumanji           6.9      2413.0  \n",
       "2             Grumpier Old Men           6.5        92.0  \n",
       "3            Waiting to Exhale           6.1        34.0  \n",
       "4  Father of the Bride Part II           5.7       173.0  "
      ]
     },
     "execution_count": 4,
     "metadata": {},
     "output_type": "execute_result"
    }
   ],
   "source": [
    "movies.head()"
   ]
  },
  {
   "cell_type": "code",
   "execution_count": 5,
   "id": "e37b44b4-1cf0-463e-987f-918ee183ac5e",
   "metadata": {},
   "outputs": [],
   "source": [
    "df=movies.copy()"
   ]
  },
  {
   "cell_type": "code",
   "execution_count": 6,
   "id": "5596c070-566e-4165-a933-dff93d76adb9",
   "metadata": {},
   "outputs": [
    {
     "data": {
      "text/html": [
       "<div>\n",
       "<style scoped>\n",
       "    .dataframe tbody tr th:only-of-type {\n",
       "        vertical-align: middle;\n",
       "    }\n",
       "\n",
       "    .dataframe tbody tr th {\n",
       "        vertical-align: top;\n",
       "    }\n",
       "\n",
       "    .dataframe thead th {\n",
       "        text-align: right;\n",
       "    }\n",
       "</style>\n",
       "<table border=\"1\" class=\"dataframe\">\n",
       "  <thead>\n",
       "    <tr style=\"text-align: right;\">\n",
       "      <th></th>\n",
       "      <th>id</th>\n",
       "      <th>overview</th>\n",
       "      <th>title</th>\n",
       "      <th>vote_average</th>\n",
       "      <th>vote_count</th>\n",
       "      <th>genre</th>\n",
       "    </tr>\n",
       "    <tr>\n",
       "      <th>index</th>\n",
       "      <th></th>\n",
       "      <th></th>\n",
       "      <th></th>\n",
       "      <th></th>\n",
       "      <th></th>\n",
       "      <th></th>\n",
       "    </tr>\n",
       "  </thead>\n",
       "  <tbody>\n",
       "    <tr>\n",
       "      <th>0</th>\n",
       "      <td>862</td>\n",
       "      <td>Led by Woody, Andy's toys live happily in his ...</td>\n",
       "      <td>Toy Story</td>\n",
       "      <td>7.7</td>\n",
       "      <td>5415.0</td>\n",
       "      <td>Animation</td>\n",
       "    </tr>\n",
       "    <tr>\n",
       "      <th>0</th>\n",
       "      <td>862</td>\n",
       "      <td>Led by Woody, Andy's toys live happily in his ...</td>\n",
       "      <td>Toy Story</td>\n",
       "      <td>7.7</td>\n",
       "      <td>5415.0</td>\n",
       "      <td>Comedy</td>\n",
       "    </tr>\n",
       "    <tr>\n",
       "      <th>0</th>\n",
       "      <td>862</td>\n",
       "      <td>Led by Woody, Andy's toys live happily in his ...</td>\n",
       "      <td>Toy Story</td>\n",
       "      <td>7.7</td>\n",
       "      <td>5415.0</td>\n",
       "      <td>Family</td>\n",
       "    </tr>\n",
       "    <tr>\n",
       "      <th>1</th>\n",
       "      <td>8844</td>\n",
       "      <td>When siblings Judy and Peter discover an encha...</td>\n",
       "      <td>Jumanji</td>\n",
       "      <td>6.9</td>\n",
       "      <td>2413.0</td>\n",
       "      <td>Adventure</td>\n",
       "    </tr>\n",
       "    <tr>\n",
       "      <th>1</th>\n",
       "      <td>8844</td>\n",
       "      <td>When siblings Judy and Peter discover an encha...</td>\n",
       "      <td>Jumanji</td>\n",
       "      <td>6.9</td>\n",
       "      <td>2413.0</td>\n",
       "      <td>Fantasy</td>\n",
       "    </tr>\n",
       "    <tr>\n",
       "      <th>1</th>\n",
       "      <td>8844</td>\n",
       "      <td>When siblings Judy and Peter discover an encha...</td>\n",
       "      <td>Jumanji</td>\n",
       "      <td>6.9</td>\n",
       "      <td>2413.0</td>\n",
       "      <td>Family</td>\n",
       "    </tr>\n",
       "    <tr>\n",
       "      <th>2</th>\n",
       "      <td>15602</td>\n",
       "      <td>A family wedding reignites the ancient feud be...</td>\n",
       "      <td>Grumpier Old Men</td>\n",
       "      <td>6.5</td>\n",
       "      <td>92.0</td>\n",
       "      <td>Romance</td>\n",
       "    </tr>\n",
       "    <tr>\n",
       "      <th>2</th>\n",
       "      <td>15602</td>\n",
       "      <td>A family wedding reignites the ancient feud be...</td>\n",
       "      <td>Grumpier Old Men</td>\n",
       "      <td>6.5</td>\n",
       "      <td>92.0</td>\n",
       "      <td>Comedy</td>\n",
       "    </tr>\n",
       "    <tr>\n",
       "      <th>3</th>\n",
       "      <td>31357</td>\n",
       "      <td>Cheated on, mistreated and stepped on, the wom...</td>\n",
       "      <td>Waiting to Exhale</td>\n",
       "      <td>6.1</td>\n",
       "      <td>34.0</td>\n",
       "      <td>Comedy</td>\n",
       "    </tr>\n",
       "    <tr>\n",
       "      <th>3</th>\n",
       "      <td>31357</td>\n",
       "      <td>Cheated on, mistreated and stepped on, the wom...</td>\n",
       "      <td>Waiting to Exhale</td>\n",
       "      <td>6.1</td>\n",
       "      <td>34.0</td>\n",
       "      <td>Drama</td>\n",
       "    </tr>\n",
       "  </tbody>\n",
       "</table>\n",
       "</div>"
      ],
      "text/plain": [
       "          id                                           overview  \\\n",
       "index                                                             \n",
       "0        862  Led by Woody, Andy's toys live happily in his ...   \n",
       "0        862  Led by Woody, Andy's toys live happily in his ...   \n",
       "0        862  Led by Woody, Andy's toys live happily in his ...   \n",
       "1       8844  When siblings Judy and Peter discover an encha...   \n",
       "1       8844  When siblings Judy and Peter discover an encha...   \n",
       "1       8844  When siblings Judy and Peter discover an encha...   \n",
       "2      15602  A family wedding reignites the ancient feud be...   \n",
       "2      15602  A family wedding reignites the ancient feud be...   \n",
       "3      31357  Cheated on, mistreated and stepped on, the wom...   \n",
       "3      31357  Cheated on, mistreated and stepped on, the wom...   \n",
       "\n",
       "                   title  vote_average  vote_count      genre  \n",
       "index                                                          \n",
       "0              Toy Story           7.7      5415.0  Animation  \n",
       "0              Toy Story           7.7      5415.0     Comedy  \n",
       "0              Toy Story           7.7      5415.0     Family  \n",
       "1                Jumanji           6.9      2413.0  Adventure  \n",
       "1                Jumanji           6.9      2413.0    Fantasy  \n",
       "1                Jumanji           6.9      2413.0     Family  \n",
       "2       Grumpier Old Men           6.5        92.0    Romance  \n",
       "2       Grumpier Old Men           6.5        92.0     Comedy  \n",
       "3      Waiting to Exhale           6.1        34.0     Comedy  \n",
       "3      Waiting to Exhale           6.1        34.0      Drama  "
      ]
     },
     "execution_count": 6,
     "metadata": {},
     "output_type": "execute_result"
    }
   ],
   "source": [
    "df.genres=df.genres.apply(ast.literal_eval)\n",
    "df=df.explode('genres', ignore_index=False)\n",
    "df['genres'] = df['genres'].apply(lambda x: {'id': 0, 'name': np.nan} if pd.isna(x) else x)\n",
    "df[['genre_id', 'genre']] =df['genres'].apply(pd.Series)\n",
    "df =df.drop(columns=['genres','genre_id'])\n",
    "df.index.name = 'index'\n",
    "df.head(10)"
   ]
  },
  {
   "cell_type": "code",
   "execution_count": 7,
   "id": "c3fa760b-9ff8-4773-b9f9-e08cf818dcaa",
   "metadata": {},
   "outputs": [],
   "source": [
    "from sklearn.feature_extraction.text import TfidfVectorizer\n",
    "from sklearn.metrics.pairwise import cosine_similarity as cosim"
   ]
  },
  {
   "cell_type": "code",
   "execution_count": 8,
   "id": "6542fef6-fd3f-4516-8af2-841d80fa2f5a",
   "metadata": {},
   "outputs": [],
   "source": [
    "genre_updated=df.groupby('id')['genre'].sum().reset_index()"
   ]
  },
  {
   "cell_type": "code",
   "execution_count": 9,
   "id": "19cf99b7-5ff8-4e60-9005-41fea62fab3b",
   "metadata": {},
   "outputs": [],
   "source": [
    "merged_df = pd.merge(genre_updated,movies, on='id')\n",
    "merged_df=merged_df.drop(columns=['genres'])\n"
   ]
  },
  {
   "cell_type": "code",
   "execution_count": 10,
   "id": "e10f8957-b75a-4022-9d48-92fc4122f2fa",
   "metadata": {},
   "outputs": [],
   "source": [
    "tv =TfidfVectorizer(max_features=1800, stop_words='english')\n",
    "merged_df['overview'] = merged_df['overview'].fillna('')\n",
    "vectors = tv.fit_transform(merged_df['overview']).toarray()"
   ]
  },
  {
   "cell_type": "code",
   "execution_count": 11,
   "id": "af02720d-d43c-4c90-8a41-894e69fd4c6c",
   "metadata": {},
   "outputs": [
    {
     "data": {
      "text/plain": [
       "array([[1.        , 0.0725389 , 0.        , ..., 0.        , 0.        ,\n",
       "        0.        ],\n",
       "       [0.0725389 , 1.        , 0.        , ..., 0.06210516, 0.        ,\n",
       "        0.05444781],\n",
       "       [0.        , 0.        , 1.        , ..., 0.        , 0.05511521,\n",
       "        0.        ],\n",
       "       ...,\n",
       "       [0.        , 0.06210516, 0.        , ..., 1.        , 0.06606935,\n",
       "        0.        ],\n",
       "       [0.        , 0.        , 0.05511521, ..., 0.06606935, 1.        ,\n",
       "        0.07135075],\n",
       "       [0.        , 0.05444781, 0.        , ..., 0.        , 0.07135075,\n",
       "        1.        ]], dtype=float32)"
      ]
     },
     "execution_count": 11,
     "metadata": {},
     "output_type": "execute_result"
    }
   ],
   "source": [
    "similarity=np.float32(cosim(vectors))\n",
    "similarity"
   ]
  },
  {
   "cell_type": "code",
   "execution_count": 12,
   "id": "1249abb9-7113-41d0-91cf-a39ec10a5a78",
   "metadata": {},
   "outputs": [],
   "source": [
    "def recommend(Movie):\n",
    "    index=merged_df[merged_df['title']==Movie].index[0]\n",
    "    movie_list=sorted(list(enumerate(similarity[index])),reverse=True, key=lambda x: x[1])[1:10]\n",
    "    for i in movie_list:\n",
    "        print(merged_df.loc[i[0],'title'])"
   ]
  },
  {
   "cell_type": "code",
   "execution_count": 13,
   "id": "6347d508-8e60-4c5b-aa9c-19a7f063b7f8",
   "metadata": {},
   "outputs": [
    {
     "name": "stdout",
     "output_type": "stream",
     "text": [
      "Night Moves\n",
      "Nightmares\n",
      "The Keeper\n",
      "Dig Two Graves\n",
      "Cold Heart\n",
      "The Great Gatsby\n",
      "Linsanity\n",
      "Circumstance\n",
      "Forbidden Photos of a Lady Above Suspicion\n"
     ]
    }
   ],
   "source": [
    "recommend('The Prestige')\t"
   ]
  },
  {
   "cell_type": "code",
   "execution_count": 14,
   "id": "883c1084-d067-4245-897f-9484fd3ec308",
   "metadata": {},
   "outputs": [],
   "source": [
    "def bayesian_average(vote_average, vote_count, global_avg, total_count, C=50):\n",
    "    return (C * global_avg + vote_count * vote_average) / (C + vote_count)"
   ]
  },
  {
   "cell_type": "code",
   "execution_count": 15,
   "id": "fa0cf043-a7ac-4fd2-95e1-40394b3b94d2",
   "metadata": {},
   "outputs": [],
   "source": [
    "global_avg_rating=merged_df.vote_average.mean()\n",
    "total_vote_count=merged_df.vote_count.sum()\n",
    "merged_df['bayesian_average'] = merged_df.apply(lambda row: bayesian_average(\n",
    "    row['vote_average'],\n",
    "    row['vote_count'],\n",
    "    global_avg_rating,\n",
    "    total_vote_count\n",
    "), axis=1)"
   ]
  },
  {
   "cell_type": "code",
   "execution_count": 16,
   "id": "0115ba22-5e37-489f-994c-f239c531222b",
   "metadata": {},
   "outputs": [],
   "source": [
    "new_df=pd.merge(df, merged_df[['id', 'bayesian_average']], on='id')"
   ]
  },
  {
   "cell_type": "code",
   "execution_count": 17,
   "id": "f11aeea5-1ccb-4eaa-9c87-03efb3923563",
   "metadata": {},
   "outputs": [
    {
     "name": "stdout",
     "output_type": "stream",
     "text": [
      "                                    genre  bayesian_avg_mean  vote_count\n",
      "0                                  Action           5.765853        6602\n",
      "1                               Adventure           5.849150        3508\n",
      "2                               Animation           6.009152        1942\n",
      "3                                 Aniplex                NaN           0\n",
      "4                               BROSTA TV                NaN           0\n",
      "5                    Carousel Productions                NaN           0\n",
      "6                                  Comedy           5.775823       13194\n",
      "7                                   Crime           5.888704        4313\n",
      "8                             Documentary           5.795815        3936\n",
      "9                                   Drama           5.859813       20306\n",
      "10                                 Family           5.821170        2776\n",
      "11                                Fantasy           5.838848        2321\n",
      "12                                Foreign           5.689941        1628\n",
      "13                                GoHands                NaN           0\n",
      "14                                History           5.969518        1398\n",
      "15                                 Horror           5.613089        4676\n",
      "16  Mardock Scramble Production Committee                NaN           0\n",
      "17                                  Music           5.847166        1600\n",
      "18                                Mystery           5.835741        2475\n",
      "19                          Odyssey Media                NaN           0\n",
      "20                     Pulser Productions                NaN           0\n",
      "21                            Rogue State                NaN           0\n",
      "22                                Romance           5.820120        6745\n",
      "23                        Science Fiction           5.717390        3057\n",
      "24                       Sentai Filmworks                NaN           0\n",
      "25                               TV Movie           5.666739         768\n",
      "26       Telescene Film Group Productions                NaN           0\n",
      "27                             The Cartel                NaN           0\n",
      "28                               Thriller           5.772588        7635\n",
      "29              Vision View Entertainment                NaN           0\n",
      "30                                    War           5.914320        1325\n",
      "31                                Western           5.756206        1042\n"
     ]
    }
   ],
   "source": [
    "genre_recommendation = new_df.groupby('genre').agg(\n",
    "    bayesian_avg_mean=('bayesian_average', 'mean'),\n",
    "    vote_count=('title', 'count')\n",
    ")\n",
    "genre_recommendation=genre_recommendation.reset_index()\n",
    "print(genre_recommendation)\n"
   ]
  },
  {
   "cell_type": "code",
   "execution_count": 18,
   "id": "b93bf3d1-d613-4210-b061-a88d638f8cb1",
   "metadata": {},
   "outputs": [],
   "source": [
    "def movie_genre(Genre,n=10):\n",
    "    sample_df=pd.DataFrame({})\n",
    "    sample_df['title']=[]\n",
    "    sample_df['ratings']=[]\n",
    "    #index_=genre_recommendation[genre_recommendation['genre']==Genre]\n",
    "    mean=genre_recommendation[genre_recommendation['genre']==Genre]['bayesian_avg_mean']\n",
    "    genre_df=merged_df[merged_df['genre']==Genre]\n",
    "    for i in range(len(genre_df)):\n",
    "        if genre_df.iloc[i]['bayesian_average']>=mean.values:\n",
    "            sample_df.loc[len(sample_df)]=[genre_df.iloc[i]['title'],genre_df.iloc[i]['bayesian_average']]\n",
    "    sample_df.sort_values(by='ratings', ascending=False, inplace=True)\n",
    "    print(sample_df.head(n))\n",
    "            \n",
    "    \n",
    "    "
   ]
  },
  {
   "cell_type": "code",
   "execution_count": 19,
   "id": "5b335796-4922-4845-85b1-34701b1ea338",
   "metadata": {},
   "outputs": [
    {
     "name": "stdout",
     "output_type": "stream",
     "text": [
      "                      title   ratings\n",
      "10                   Grease  7.153007\n",
      "1                Safe Haven  6.827989\n",
      "6    Palm Trees in the Snow  6.802428\n",
      "3   Yeh Jawaani Hai Deewani  6.530080\n",
      "9                     Signs  6.257825\n",
      "0      Under the Tuscan Sun  6.228554\n",
      "4                    Hawaii  6.162644\n",
      "7     Turn Left, Turn Right  5.944609\n",
      "11              April Story  5.942349\n",
      "2              Henry & June  5.921226\n",
      "8                  Amor.com  5.918065\n",
      "5                  No Entry  5.867383\n"
     ]
    }
   ],
   "source": [
    "movie_genre('Romance',20)"
   ]
  },
  {
   "cell_type": "code",
   "execution_count": 20,
   "id": "51ba92df-6adc-4fb3-b684-a84cbd08dcea",
   "metadata": {},
   "outputs": [],
   "source": [
    "import pickle"
   ]
  },
  {
   "cell_type": "code",
   "execution_count": 27,
   "id": "58aec616-0523-443d-b2eb-402d5ecd8ae0",
   "metadata": {},
   "outputs": [],
   "source": [
    "pickle.dump(merged_df,open('movies.pkl','wb'))"
   ]
  },
  {
   "cell_type": "code",
   "execution_count": 23,
   "id": "fc85b7b2-15f3-4b4f-a694-ba3c7c59a8d8",
   "metadata": {},
   "outputs": [
    {
     "data": {
      "text/plain": [
       "['similarity___.npz']"
      ]
     },
     "execution_count": 23,
     "metadata": {},
     "output_type": "execute_result"
    }
   ],
   "source": [
    "from joblib import dump\n",
    "dump(similarity, 'similarity___.npz')\n"
   ]
  },
  {
   "cell_type": "code",
   "execution_count": 24,
   "id": "2e4cdfaa-1189-405f-91bb-c4e5630ee58f",
   "metadata": {},
   "outputs": [
    {
     "name": "stdout",
     "output_type": "stream",
     "text": [
      "Night Moves\n",
      "Nightmares\n",
      "The Keeper\n",
      "Dig Two Graves\n",
      "Cold Heart\n",
      "The Great Gatsby\n",
      "Linsanity\n",
      "Circumstance\n",
      "Forbidden Photos of a Lady Above Suspicion\n"
     ]
    }
   ],
   "source": [
    "recommend('The Prestige')"
   ]
  },
  {
   "cell_type": "code",
   "execution_count": null,
   "id": "0637c9d9-2af9-4f58-986d-a9aba1d9445a",
   "metadata": {},
   "outputs": [],
   "source": []
  }
 ],
 "metadata": {
  "kernelspec": {
   "display_name": "Python 3 (ipykernel)",
   "language": "python",
   "name": "python3"
  },
  "language_info": {
   "codemirror_mode": {
    "name": "ipython",
    "version": 3
   },
   "file_extension": ".py",
   "mimetype": "text/x-python",
   "name": "python",
   "nbconvert_exporter": "python",
   "pygments_lexer": "ipython3",
   "version": "3.12.4"
  }
 },
 "nbformat": 4,
 "nbformat_minor": 5
}
